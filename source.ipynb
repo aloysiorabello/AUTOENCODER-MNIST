{
  "nbformat": 4,
  "nbformat_minor": 0,
  "metadata": {
    "colab": {
      "name": "Projeto04.ipynb",
      "provenance": []
    },
    "kernelspec": {
      "name": "python3",
      "display_name": "Python 3"
    }
  },
  "cells": [
    {
      "cell_type": "code",
      "metadata": {
        "id": "B8T6ogHXM_Ni"
      },
      "source": [
        "import keras\r\n",
        "from keras import layers\r\n",
        "\r\n",
        "encoding_dim = 32  \r\n",
        "\r\n",
        "input_img = keras.Input(shape=(784,))\r\n",
        "encoded = layers.Dense(encoding_dim, activation='relu')(input_img)\r\n",
        "decoded = layers.Dense(784, activation='sigmoid')(encoded)\r\n",
        "\r\n",
        "autoencoder = keras.Model(input_img, decoded)"
      ],
      "execution_count": 1,
      "outputs": []
    },
    {
      "cell_type": "code",
      "metadata": {
        "id": "ndcd_RpcNIaY"
      },
      "source": [
        "encoder = keras.Model(input_img, encoded)"
      ],
      "execution_count": 2,
      "outputs": []
    },
    {
      "cell_type": "code",
      "metadata": {
        "id": "y7IM493gNM7O"
      },
      "source": [
        "encoded_input = keras.Input(shape=(encoding_dim,))\r\n",
        "decoder_layer = autoencoder.layers[-1]\r\n",
        "decoder = keras.Model(encoded_input, decoder_layer(encoded_input))"
      ],
      "execution_count": 3,
      "outputs": []
    },
    {
      "cell_type": "code",
      "metadata": {
        "id": "HnXOrItyNPM1"
      },
      "source": [
        "autoencoder.compile(optimizer='adam', loss='binary_crossentropy')"
      ],
      "execution_count": 4,
      "outputs": []
    },
    {
      "cell_type": "code",
      "metadata": {
        "colab": {
          "base_uri": "https://localhost:8080/"
        },
        "id": "rUeL1qsUNRlJ",
        "outputId": "7ca54433-3cec-4529-80a3-6a308ef94d72"
      },
      "source": [
        "from keras.datasets import mnist\r\n",
        "import numpy as np\r\n",
        "(x_train, _), (x_test, _) = mnist.load_data()"
      ],
      "execution_count": 5,
      "outputs": [
        {
          "output_type": "stream",
          "text": [
            "Downloading data from https://storage.googleapis.com/tensorflow/tf-keras-datasets/mnist.npz\n",
            "11493376/11490434 [==============================] - 0s 0us/step\n"
          ],
          "name": "stdout"
        }
      ]
    },
    {
      "cell_type": "code",
      "metadata": {
        "colab": {
          "base_uri": "https://localhost:8080/"
        },
        "id": "0BVjUx7nNTt5",
        "outputId": "e788b4d9-e524-4865-954a-276e59b3ae3f"
      },
      "source": [
        "x_train = x_train.astype('float32') / 255.\r\n",
        "x_test = x_test.astype('float32') / 255.\r\n",
        "x_train = x_train.reshape((len(x_train), np.prod(x_train.shape[1:])))\r\n",
        "x_test = x_test.reshape((len(x_test), np.prod(x_test.shape[1:])))\r\n",
        "print(x_train.shape)\r\n",
        "print(x_test.shape)"
      ],
      "execution_count": 6,
      "outputs": [
        {
          "output_type": "stream",
          "text": [
            "(60000, 784)\n",
            "(10000, 784)\n"
          ],
          "name": "stdout"
        }
      ]
    },
    {
      "cell_type": "code",
      "metadata": {
        "colab": {
          "base_uri": "https://localhost:8080/"
        },
        "id": "h1D9Z8BFNWQH",
        "outputId": "be8d036e-212b-40f6-c3f4-45a099f32ef4"
      },
      "source": [
        "autoencoder.fit(x_train, x_train,\r\n",
        "                epochs=50,\r\n",
        "                batch_size=256,\r\n",
        "                shuffle=True,\r\n",
        "                validation_data=(x_test, x_test))"
      ],
      "execution_count": 7,
      "outputs": [
        {
          "output_type": "stream",
          "text": [
            "Epoch 1/50\n",
            "235/235 [==============================] - 3s 12ms/step - loss: 0.3833 - val_loss: 0.1874\n",
            "Epoch 2/50\n",
            "235/235 [==============================] - 2s 10ms/step - loss: 0.1778 - val_loss: 0.1521\n",
            "Epoch 3/50\n",
            "235/235 [==============================] - 2s 10ms/step - loss: 0.1480 - val_loss: 0.1329\n",
            "Epoch 4/50\n",
            "235/235 [==============================] - 2s 10ms/step - loss: 0.1310 - val_loss: 0.1214\n",
            "Epoch 5/50\n",
            "235/235 [==============================] - 2s 10ms/step - loss: 0.1207 - val_loss: 0.1135\n",
            "Epoch 6/50\n",
            "235/235 [==============================] - 2s 10ms/step - loss: 0.1133 - val_loss: 0.1076\n",
            "Epoch 7/50\n",
            "235/235 [==============================] - 2s 10ms/step - loss: 0.1074 - val_loss: 0.1031\n",
            "Epoch 8/50\n",
            "235/235 [==============================] - 2s 10ms/step - loss: 0.1035 - val_loss: 0.0997\n",
            "Epoch 9/50\n",
            "235/235 [==============================] - 2s 10ms/step - loss: 0.1003 - val_loss: 0.0973\n",
            "Epoch 10/50\n",
            "235/235 [==============================] - 2s 10ms/step - loss: 0.0980 - val_loss: 0.0956\n",
            "Epoch 11/50\n",
            "235/235 [==============================] - 2s 10ms/step - loss: 0.0966 - val_loss: 0.0945\n",
            "Epoch 12/50\n",
            "235/235 [==============================] - 2s 10ms/step - loss: 0.0953 - val_loss: 0.0938\n",
            "Epoch 13/50\n",
            "235/235 [==============================] - 2s 10ms/step - loss: 0.0947 - val_loss: 0.0933\n",
            "Epoch 14/50\n",
            "235/235 [==============================] - 2s 10ms/step - loss: 0.0945 - val_loss: 0.0929\n",
            "Epoch 15/50\n",
            "235/235 [==============================] - 2s 10ms/step - loss: 0.0943 - val_loss: 0.0927\n",
            "Epoch 16/50\n",
            "235/235 [==============================] - 2s 10ms/step - loss: 0.0939 - val_loss: 0.0925\n",
            "Epoch 17/50\n",
            "235/235 [==============================] - 2s 10ms/step - loss: 0.0938 - val_loss: 0.0924\n",
            "Epoch 18/50\n",
            "235/235 [==============================] - 2s 10ms/step - loss: 0.0936 - val_loss: 0.0922\n",
            "Epoch 19/50\n",
            "235/235 [==============================] - 2s 10ms/step - loss: 0.0938 - val_loss: 0.0922\n",
            "Epoch 20/50\n",
            "235/235 [==============================] - 2s 10ms/step - loss: 0.0932 - val_loss: 0.0921\n",
            "Epoch 21/50\n",
            "235/235 [==============================] - 2s 10ms/step - loss: 0.0935 - val_loss: 0.0920\n",
            "Epoch 22/50\n",
            "235/235 [==============================] - 2s 10ms/step - loss: 0.0933 - val_loss: 0.0920\n",
            "Epoch 23/50\n",
            "235/235 [==============================] - 2s 10ms/step - loss: 0.0931 - val_loss: 0.0920\n",
            "Epoch 24/50\n",
            "235/235 [==============================] - 2s 10ms/step - loss: 0.0932 - val_loss: 0.0919\n",
            "Epoch 25/50\n",
            "235/235 [==============================] - 2s 10ms/step - loss: 0.0932 - val_loss: 0.0918\n",
            "Epoch 26/50\n",
            "235/235 [==============================] - 2s 10ms/step - loss: 0.0929 - val_loss: 0.0918\n",
            "Epoch 27/50\n",
            "235/235 [==============================] - 2s 10ms/step - loss: 0.0931 - val_loss: 0.0918\n",
            "Epoch 28/50\n",
            "235/235 [==============================] - 2s 11ms/step - loss: 0.0931 - val_loss: 0.0917\n",
            "Epoch 29/50\n",
            "235/235 [==============================] - 2s 10ms/step - loss: 0.0931 - val_loss: 0.0917\n",
            "Epoch 30/50\n",
            "235/235 [==============================] - 2s 10ms/step - loss: 0.0929 - val_loss: 0.0917\n",
            "Epoch 31/50\n",
            "235/235 [==============================] - 2s 10ms/step - loss: 0.0928 - val_loss: 0.0918\n",
            "Epoch 32/50\n",
            "235/235 [==============================] - 2s 10ms/step - loss: 0.0931 - val_loss: 0.0917\n",
            "Epoch 33/50\n",
            "235/235 [==============================] - 2s 10ms/step - loss: 0.0926 - val_loss: 0.0917\n",
            "Epoch 34/50\n",
            "235/235 [==============================] - 2s 10ms/step - loss: 0.0928 - val_loss: 0.0917\n",
            "Epoch 35/50\n",
            "235/235 [==============================] - 2s 10ms/step - loss: 0.0929 - val_loss: 0.0916\n",
            "Epoch 36/50\n",
            "235/235 [==============================] - 2s 10ms/step - loss: 0.0927 - val_loss: 0.0916\n",
            "Epoch 37/50\n",
            "235/235 [==============================] - 2s 10ms/step - loss: 0.0927 - val_loss: 0.0916\n",
            "Epoch 38/50\n",
            "235/235 [==============================] - 2s 10ms/step - loss: 0.0928 - val_loss: 0.0916\n",
            "Epoch 39/50\n",
            "235/235 [==============================] - 2s 10ms/step - loss: 0.0927 - val_loss: 0.0916\n",
            "Epoch 40/50\n",
            "235/235 [==============================] - 2s 10ms/step - loss: 0.0926 - val_loss: 0.0915\n",
            "Epoch 41/50\n",
            "235/235 [==============================] - 2s 10ms/step - loss: 0.0927 - val_loss: 0.0917\n",
            "Epoch 42/50\n",
            "235/235 [==============================] - 2s 10ms/step - loss: 0.0928 - val_loss: 0.0915\n",
            "Epoch 43/50\n",
            "235/235 [==============================] - 2s 10ms/step - loss: 0.0927 - val_loss: 0.0915\n",
            "Epoch 44/50\n",
            "235/235 [==============================] - 2s 10ms/step - loss: 0.0927 - val_loss: 0.0916\n",
            "Epoch 45/50\n",
            "235/235 [==============================] - 2s 10ms/step - loss: 0.0927 - val_loss: 0.0916\n",
            "Epoch 46/50\n",
            "235/235 [==============================] - 2s 10ms/step - loss: 0.0927 - val_loss: 0.0916\n",
            "Epoch 47/50\n",
            "235/235 [==============================] - 2s 10ms/step - loss: 0.0925 - val_loss: 0.0915\n",
            "Epoch 48/50\n",
            "235/235 [==============================] - 2s 10ms/step - loss: 0.0925 - val_loss: 0.0916\n",
            "Epoch 49/50\n",
            "235/235 [==============================] - 2s 10ms/step - loss: 0.0925 - val_loss: 0.0915\n",
            "Epoch 50/50\n",
            "235/235 [==============================] - 2s 10ms/step - loss: 0.0927 - val_loss: 0.0914\n"
          ],
          "name": "stdout"
        },
        {
          "output_type": "execute_result",
          "data": {
            "text/plain": [
              "<tensorflow.python.keras.callbacks.History at 0x7fc6df7216a0>"
            ]
          },
          "metadata": {
            "tags": []
          },
          "execution_count": 7
        }
      ]
    },
    {
      "cell_type": "markdown",
      "metadata": {
        "id": "M8pOs2oYP_HZ"
      },
      "source": [
        "loss: 0.0926 - val_loss: 0.0915"
      ]
    },
    {
      "cell_type": "code",
      "metadata": {
        "id": "1tOeV4_YNYUF"
      },
      "source": [
        "encoded_imgs = encoder.predict(x_test)\r\n",
        "decoded_imgs = decoder.predict(encoded_imgs)"
      ],
      "execution_count": 8,
      "outputs": []
    },
    {
      "cell_type": "code",
      "metadata": {
        "colab": {
          "base_uri": "https://localhost:8080/",
          "height": 248
        },
        "id": "PvNqfXmhNb5e",
        "outputId": "c50ab115-52f2-4152-a68e-85d3d122aa8a"
      },
      "source": [
        "import matplotlib.pyplot as plt\r\n",
        "\r\n",
        "n = 10\r\n",
        "plt.figure(figsize=(20, 4))\r\n",
        "for i in range(n):\r\n",
        "    ax = plt.subplot(2, n, i + 1)\r\n",
        "    plt.imshow(x_test[i].reshape(28, 28))\r\n",
        "    plt.gray()\r\n",
        "    ax.get_xaxis().set_visible(False)\r\n",
        "    ax.get_yaxis().set_visible(False)\r\n",
        "\r\n",
        "    ax = plt.subplot(2, n, i + 1 + n)\r\n",
        "    plt.imshow(decoded_imgs[i].reshape(28, 28))\r\n",
        "    plt.gray()\r\n",
        "    ax.get_xaxis().set_visible(False)\r\n",
        "    ax.get_yaxis().set_visible(False)\r\n",
        "plt.show()"
      ],
      "execution_count": 9,
      "outputs": [
        {
          "output_type": "display_data",
          "data": {
            "image/png": "[encoded data removed]",
            "text/plain": [
              "<Figure size 1440x288 with 20 Axes>"
            ]
          },
          "metadata": {
            "tags": [],
            "needs_background": "light"
          }
        }
      ]
    },
    {
      "cell_type": "code",
      "metadata": {
        "id": "RxWDOy_lNfJZ"
      },
      "source": [
        "from keras import regularizers\r\n",
        "\r\n",
        "encoding_dim = 32\r\n",
        "\r\n",
        "input_img = keras.Input(shape=(784,))\r\n",
        "encoded = layers.Dense(encoding_dim, activation='relu',\r\n",
        "                activity_regularizer=regularizers.l1(10e-5))(input_img)\r\n",
        "decoded = layers.Dense(784, activation='sigmoid')(encoded)\r\n",
        "\r\n",
        "autoencoder = keras.Model(input_img, decoded)"
      ],
      "execution_count": 10,
      "outputs": []
    },
    {
      "cell_type": "code",
      "metadata": {
        "id": "KfZxWCxCNhig"
      },
      "source": [
        "input_img = keras.Input(shape=(784,))\r\n",
        "encoded = layers.Dense(128, activation='relu')(input_img)\r\n",
        "encoded = layers.Dense(64, activation='relu')(encoded)\r\n",
        "encoded = layers.Dense(32, activation='relu')(encoded)\r\n",
        "\r\n",
        "decoded = layers.Dense(64, activation='relu')(encoded)\r\n",
        "decoded = layers.Dense(128, activation='relu')(decoded)\r\n",
        "decoded = layers.Dense(784, activation='sigmoid')(decoded)"
      ],
      "execution_count": 11,
      "outputs": []
    },
    {
      "cell_type": "code",
      "metadata": {
        "colab": {
          "base_uri": "https://localhost:8080/"
        },
        "id": "gw24POkfNkQc",
        "outputId": "5f0c7740-acf2-4f69-8050-9468a22a15ae"
      },
      "source": [
        "autoencoder = keras.Model(input_img, decoded)\r\n",
        "autoencoder.compile(optimizer='adam', loss='binary_crossentropy')\r\n",
        "\r\n",
        "autoencoder.fit(x_train, x_train,\r\n",
        "                epochs=100,\r\n",
        "                batch_size=256,\r\n",
        "                shuffle=True,\r\n",
        "                validation_data=(x_test, x_test))"
      ],
      "execution_count": 12,
      "outputs": [
        {
          "output_type": "stream",
          "text": [
            "Epoch 1/100\n",
            "235/235 [==============================] - 4s 16ms/step - loss: 0.3426 - val_loss: 0.1680\n",
            "Epoch 2/100\n",
            "235/235 [==============================] - 4s 16ms/step - loss: 0.1602 - val_loss: 0.1372\n",
            "Epoch 3/100\n",
            "235/235 [==============================] - 4s 15ms/step - loss: 0.1348 - val_loss: 0.1223\n",
            "Epoch 4/100\n",
            "235/235 [==============================] - 4s 16ms/step - loss: 0.1223 - val_loss: 0.1154\n",
            "Epoch 5/100\n",
            "235/235 [==============================] - 4s 16ms/step - loss: 0.1156 - val_loss: 0.1112\n",
            "Epoch 6/100\n",
            "235/235 [==============================] - 4s 16ms/step - loss: 0.1117 - val_loss: 0.1080\n",
            "Epoch 7/100\n",
            "235/235 [==============================] - 4s 16ms/step - loss: 0.1089 - val_loss: 0.1056\n",
            "Epoch 8/100\n",
            "235/235 [==============================] - 4s 16ms/step - loss: 0.1062 - val_loss: 0.1030\n",
            "Epoch 9/100\n",
            "235/235 [==============================] - 4s 16ms/step - loss: 0.1037 - val_loss: 0.1006\n",
            "Epoch 10/100\n",
            "235/235 [==============================] - 4s 16ms/step - loss: 0.1017 - val_loss: 0.0993\n",
            "Epoch 11/100\n",
            "235/235 [==============================] - 4s 15ms/step - loss: 0.1000 - val_loss: 0.0983\n",
            "Epoch 12/100\n",
            "235/235 [==============================] - 4s 16ms/step - loss: 0.0991 - val_loss: 0.0973\n",
            "Epoch 13/100\n",
            "235/235 [==============================] - 4s 15ms/step - loss: 0.0977 - val_loss: 0.0959\n",
            "Epoch 14/100\n",
            "235/235 [==============================] - 4s 15ms/step - loss: 0.0968 - val_loss: 0.0952\n",
            "Epoch 15/100\n",
            "235/235 [==============================] - 4s 16ms/step - loss: 0.0955 - val_loss: 0.0941\n",
            "Epoch 16/100\n",
            "235/235 [==============================] - 4s 16ms/step - loss: 0.0946 - val_loss: 0.0931\n",
            "Epoch 17/100\n",
            "235/235 [==============================] - 4s 16ms/step - loss: 0.0939 - val_loss: 0.0926\n",
            "Epoch 18/100\n",
            "235/235 [==============================] - 4s 17ms/step - loss: 0.0930 - val_loss: 0.0917\n",
            "Epoch 19/100\n",
            "235/235 [==============================] - 4s 16ms/step - loss: 0.0921 - val_loss: 0.0912\n",
            "Epoch 20/100\n",
            "235/235 [==============================] - 4s 16ms/step - loss: 0.0919 - val_loss: 0.0905\n",
            "Epoch 21/100\n",
            "235/235 [==============================] - 4s 16ms/step - loss: 0.0913 - val_loss: 0.0905\n",
            "Epoch 22/100\n",
            "235/235 [==============================] - 4s 16ms/step - loss: 0.0909 - val_loss: 0.0899\n",
            "Epoch 23/100\n",
            "235/235 [==============================] - 4s 16ms/step - loss: 0.0903 - val_loss: 0.0893\n",
            "Epoch 24/100\n",
            "235/235 [==============================] - 4s 19ms/step - loss: 0.0898 - val_loss: 0.0887\n",
            "Epoch 25/100\n",
            "235/235 [==============================] - 4s 17ms/step - loss: 0.0891 - val_loss: 0.0883\n",
            "Epoch 26/100\n",
            "235/235 [==============================] - 4s 17ms/step - loss: 0.0888 - val_loss: 0.0877\n",
            "Epoch 27/100\n",
            "235/235 [==============================] - 4s 17ms/step - loss: 0.0884 - val_loss: 0.0874\n",
            "Epoch 28/100\n",
            "235/235 [==============================] - 4s 16ms/step - loss: 0.0881 - val_loss: 0.0871\n",
            "Epoch 29/100\n",
            "235/235 [==============================] - 4s 16ms/step - loss: 0.0877 - val_loss: 0.0867\n",
            "Epoch 30/100\n",
            "235/235 [==============================] - 4s 17ms/step - loss: 0.0873 - val_loss: 0.0865\n",
            "Epoch 31/100\n",
            "235/235 [==============================] - 4s 17ms/step - loss: 0.0870 - val_loss: 0.0862\n",
            "Epoch 32/100\n",
            "235/235 [==============================] - 4s 17ms/step - loss: 0.0868 - val_loss: 0.0862\n",
            "Epoch 33/100\n",
            "235/235 [==============================] - 4s 17ms/step - loss: 0.0865 - val_loss: 0.0857\n",
            "Epoch 34/100\n",
            "235/235 [==============================] - 4s 17ms/step - loss: 0.0861 - val_loss: 0.0855\n",
            "Epoch 35/100\n",
            "235/235 [==============================] - 4s 16ms/step - loss: 0.0862 - val_loss: 0.0853\n",
            "Epoch 36/100\n",
            "235/235 [==============================] - 4s 17ms/step - loss: 0.0856 - val_loss: 0.0852\n",
            "Epoch 37/100\n",
            "235/235 [==============================] - 5s 21ms/step - loss: 0.0856 - val_loss: 0.0850\n",
            "Epoch 38/100\n",
            "235/235 [==============================] - 4s 18ms/step - loss: 0.0855 - val_loss: 0.0849\n",
            "Epoch 39/100\n",
            "235/235 [==============================] - 4s 17ms/step - loss: 0.0851 - val_loss: 0.0846\n",
            "Epoch 40/100\n",
            "235/235 [==============================] - 4s 17ms/step - loss: 0.0850 - val_loss: 0.0845\n",
            "Epoch 41/100\n",
            "235/235 [==============================] - 4s 17ms/step - loss: 0.0848 - val_loss: 0.0844\n",
            "Epoch 42/100\n",
            "235/235 [==============================] - 4s 17ms/step - loss: 0.0848 - val_loss: 0.0844\n",
            "Epoch 43/100\n",
            "235/235 [==============================] - 4s 17ms/step - loss: 0.0847 - val_loss: 0.0843\n",
            "Epoch 44/100\n",
            "235/235 [==============================] - 4s 17ms/step - loss: 0.0844 - val_loss: 0.0840\n",
            "Epoch 45/100\n",
            "235/235 [==============================] - 4s 17ms/step - loss: 0.0843 - val_loss: 0.0836\n",
            "Epoch 46/100\n",
            "235/235 [==============================] - 4s 17ms/step - loss: 0.0843 - val_loss: 0.0837\n",
            "Epoch 47/100\n",
            "235/235 [==============================] - 4s 16ms/step - loss: 0.0842 - val_loss: 0.0835\n",
            "Epoch 48/100\n",
            "235/235 [==============================] - 4s 16ms/step - loss: 0.0839 - val_loss: 0.0834\n",
            "Epoch 49/100\n",
            "235/235 [==============================] - 4s 16ms/step - loss: 0.0839 - val_loss: 0.0835\n",
            "Epoch 50/100\n",
            "235/235 [==============================] - 4s 17ms/step - loss: 0.0838 - val_loss: 0.0832\n",
            "Epoch 51/100\n",
            "235/235 [==============================] - 4s 17ms/step - loss: 0.0838 - val_loss: 0.0832\n",
            "Epoch 52/100\n",
            "235/235 [==============================] - 4s 17ms/step - loss: 0.0839 - val_loss: 0.0834\n",
            "Epoch 53/100\n",
            "235/235 [==============================] - 4s 17ms/step - loss: 0.0835 - val_loss: 0.0834\n",
            "Epoch 54/100\n",
            "235/235 [==============================] - 4s 17ms/step - loss: 0.0836 - val_loss: 0.0830\n",
            "Epoch 55/100\n",
            "235/235 [==============================] - 4s 17ms/step - loss: 0.0834 - val_loss: 0.0831\n",
            "Epoch 56/100\n",
            "235/235 [==============================] - 4s 17ms/step - loss: 0.0836 - val_loss: 0.0829\n",
            "Epoch 57/100\n",
            "235/235 [==============================] - 4s 16ms/step - loss: 0.0832 - val_loss: 0.0828\n",
            "Epoch 58/100\n",
            "235/235 [==============================] - 4s 16ms/step - loss: 0.0833 - val_loss: 0.0828\n",
            "Epoch 59/100\n",
            "235/235 [==============================] - 4s 16ms/step - loss: 0.0831 - val_loss: 0.0830\n",
            "Epoch 60/100\n",
            "235/235 [==============================] - 4s 16ms/step - loss: 0.0831 - val_loss: 0.0829\n",
            "Epoch 61/100\n",
            "235/235 [==============================] - 4s 16ms/step - loss: 0.0829 - val_loss: 0.0828\n",
            "Epoch 62/100\n",
            "235/235 [==============================] - 4s 16ms/step - loss: 0.0828 - val_loss: 0.0826\n",
            "Epoch 63/100\n",
            "235/235 [==============================] - 4s 16ms/step - loss: 0.0829 - val_loss: 0.0824\n",
            "Epoch 64/100\n",
            "235/235 [==============================] - 4s 16ms/step - loss: 0.0827 - val_loss: 0.0828\n",
            "Epoch 65/100\n",
            "235/235 [==============================] - 4s 16ms/step - loss: 0.0828 - val_loss: 0.0823\n",
            "Epoch 66/100\n",
            "235/235 [==============================] - 4s 16ms/step - loss: 0.0826 - val_loss: 0.0825\n",
            "Epoch 67/100\n",
            "235/235 [==============================] - 4s 16ms/step - loss: 0.0826 - val_loss: 0.0823\n",
            "Epoch 68/100\n",
            "235/235 [==============================] - 4s 16ms/step - loss: 0.0824 - val_loss: 0.0823\n",
            "Epoch 69/100\n",
            "235/235 [==============================] - 4s 16ms/step - loss: 0.0828 - val_loss: 0.0822\n",
            "Epoch 70/100\n",
            "235/235 [==============================] - 4s 16ms/step - loss: 0.0824 - val_loss: 0.0822\n",
            "Epoch 71/100\n",
            "235/235 [==============================] - 4s 16ms/step - loss: 0.0825 - val_loss: 0.0821\n",
            "Epoch 72/100\n",
            "235/235 [==============================] - 4s 16ms/step - loss: 0.0824 - val_loss: 0.0819\n",
            "Epoch 73/100\n",
            "235/235 [==============================] - 4s 16ms/step - loss: 0.0826 - val_loss: 0.0820\n",
            "Epoch 74/100\n",
            "235/235 [==============================] - 4s 16ms/step - loss: 0.0823 - val_loss: 0.0819\n",
            "Epoch 75/100\n",
            "235/235 [==============================] - 4s 16ms/step - loss: 0.0820 - val_loss: 0.0819\n",
            "Epoch 76/100\n",
            "235/235 [==============================] - 4s 18ms/step - loss: 0.0819 - val_loss: 0.0817\n",
            "Epoch 77/100\n",
            "235/235 [==============================] - 7s 30ms/step - loss: 0.0819 - val_loss: 0.0816\n",
            "Epoch 78/100\n",
            "235/235 [==============================] - 6s 25ms/step - loss: 0.0816 - val_loss: 0.0818\n",
            "Epoch 79/100\n",
            "235/235 [==============================] - 4s 16ms/step - loss: 0.0819 - val_loss: 0.0816\n",
            "Epoch 80/100\n",
            "235/235 [==============================] - 4s 16ms/step - loss: 0.0817 - val_loss: 0.0812\n",
            "Epoch 81/100\n",
            "235/235 [==============================] - 4s 16ms/step - loss: 0.0815 - val_loss: 0.0813\n",
            "Epoch 82/100\n",
            "235/235 [==============================] - 4s 16ms/step - loss: 0.0815 - val_loss: 0.0813\n",
            "Epoch 83/100\n",
            "235/235 [==============================] - 4s 16ms/step - loss: 0.0815 - val_loss: 0.0812\n",
            "Epoch 84/100\n",
            "235/235 [==============================] - 4s 16ms/step - loss: 0.0814 - val_loss: 0.0813\n",
            "Epoch 85/100\n",
            "235/235 [==============================] - 4s 16ms/step - loss: 0.0814 - val_loss: 0.0811\n",
            "Epoch 86/100\n",
            "235/235 [==============================] - 4s 16ms/step - loss: 0.0814 - val_loss: 0.0811\n",
            "Epoch 87/100\n",
            "235/235 [==============================] - 4s 16ms/step - loss: 0.0812 - val_loss: 0.0812\n",
            "Epoch 88/100\n",
            "235/235 [==============================] - 4s 16ms/step - loss: 0.0811 - val_loss: 0.0812\n",
            "Epoch 89/100\n",
            "235/235 [==============================] - 4s 16ms/step - loss: 0.0811 - val_loss: 0.0809\n",
            "Epoch 90/100\n",
            "235/235 [==============================] - 4s 16ms/step - loss: 0.0810 - val_loss: 0.0810\n",
            "Epoch 91/100\n",
            "235/235 [==============================] - 4s 16ms/step - loss: 0.0812 - val_loss: 0.0808\n",
            "Epoch 92/100\n",
            "235/235 [==============================] - 4s 17ms/step - loss: 0.0810 - val_loss: 0.0808\n",
            "Epoch 93/100\n",
            "235/235 [==============================] - 4s 16ms/step - loss: 0.0809 - val_loss: 0.0809\n",
            "Epoch 94/100\n",
            "235/235 [==============================] - 4s 16ms/step - loss: 0.0809 - val_loss: 0.0807\n",
            "Epoch 95/100\n",
            "235/235 [==============================] - 4s 16ms/step - loss: 0.0808 - val_loss: 0.0810\n",
            "Epoch 96/100\n",
            "235/235 [==============================] - 4s 18ms/step - loss: 0.0810 - val_loss: 0.0810\n",
            "Epoch 97/100\n",
            "235/235 [==============================] - 4s 16ms/step - loss: 0.0808 - val_loss: 0.0808\n",
            "Epoch 98/100\n",
            "235/235 [==============================] - 4s 16ms/step - loss: 0.0810 - val_loss: 0.0808\n",
            "Epoch 99/100\n",
            "235/235 [==============================] - 4s 16ms/step - loss: 0.0808 - val_loss: 0.0809\n",
            "Epoch 100/100\n",
            "235/235 [==============================] - 4s 16ms/step - loss: 0.0809 - val_loss: 0.0806\n"
          ],
          "name": "stdout"
        },
        {
          "output_type": "execute_result",
          "data": {
            "text/plain": [
              "<tensorflow.python.keras.callbacks.History at 0x7fc6d155a2b0>"
            ]
          },
          "metadata": {
            "tags": []
          },
          "execution_count": 12
        }
      ]
    },
    {
      "cell_type": "markdown",
      "metadata": {
        "id": "EhIovCTQPCkz"
      },
      "source": [
        "loss: 0.0813 - val_loss: 0.0811"
      ]
    }
  ]
}